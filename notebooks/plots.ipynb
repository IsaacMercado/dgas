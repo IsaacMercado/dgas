{
 "cells": [
  {
   "cell_type": "code",
   "execution_count": 91,
   "metadata": {},
   "outputs": [],
   "source": [
    "from datetime import datetime, timedelta\n",
    "import pytz\n",
    "\n",
    "#from plotly import graph_objs as go\n",
    "#from plotly import offline\n",
    "#from plotly.subplots import make_subplots\n",
    "\n",
    "import pandas as pd\n",
    "import matplotlib.pylab as plt"
   ]
  },
  {
   "cell_type": "code",
   "execution_count": 92,
   "metadata": {},
   "outputs": [],
   "source": [
    "from django.db.models import F, Max, Min, Sum\n",
    "from django.db.models.functions import Cast\n",
    "from django.db.models.fields import DateField\n",
    "from django.db import connections\n",
    "\n",
    "from dgas.gas_app import models as md\n",
    "from dgas.users import models as us"
   ]
  },
  {
   "cell_type": "code",
   "execution_count": 104,
   "metadata": {},
   "outputs": [],
   "source": [
    "import re\n",
    "\n",
    "def format_date(query):\n",
    "    return re.sub(\\\n",
    "        r'[^\\'\\\"]\\d{4}\\-\\d{2}\\-\\d{2}[^\\'\\\"]{0,1}',\n",
    "        lambda m: \" '\"+m.group(0).replace(' ','')+\"'::date \",\n",
    "        str(query)\\\n",
    "    )"
   ]
  },
  {
   "cell_type": "code",
   "execution_count": 94,
   "metadata": {
    "scrolled": true
   },
   "outputs": [
    {
     "name": "stderr",
     "output_type": "stream",
     "text": [
      "/home/isaac/myCode/python/venv_dgas3/lib/python3.7/site-packages/tqdm/std.py:648: FutureWarning:\n",
      "\n",
      "The Panel class is removed from pandas. Accessing it from the top-level namespace will also be removed in the next version\n",
      "\n"
     ]
    }
   ],
   "source": [
    "from tqdm.autonotebook import tqdm\n",
    "tqdm.pandas()"
   ]
  },
  {
   "cell_type": "code",
   "execution_count": 95,
   "metadata": {},
   "outputs": [
    {
     "data": {
      "text/plain": [
       "(datetime.date(2019, 8, 2), datetime.date(2019, 9, 1))"
      ]
     },
     "execution_count": 95,
     "metadata": {},
     "output_type": "execute_result"
    }
   ],
   "source": [
    "end = datetime(2019,9,1).date()\n",
    "init = end - timedelta(days=30)\n",
    "\n",
    "(init,end)"
   ]
  },
  {
   "cell_type": "code",
   "execution_count": 96,
   "metadata": {},
   "outputs": [
    {
     "data": {
      "text/plain": [
       "<Municipio: Alberto Adriani>"
      ]
     },
     "execution_count": 96,
     "metadata": {},
     "output_type": "execute_result"
    }
   ],
   "source": [
    "municipio = Municipio.objects.all().first()\n",
    "municipio"
   ]
  },
  {
   "cell_type": "code",
   "execution_count": 99,
   "metadata": {},
   "outputs": [
    {
     "name": "stdout",
     "output_type": "stream",
     "text": [
      "CPU times: user 12 ms, sys: 0 ns, total: 12 ms\n",
      "Wall time: 762 ms\n"
     ]
    }
   ],
   "source": [
    "query_cola = md.Cola.objects\\\n",
    "        .filter(created_at__date__range=(init, end))\\\n",
    "        .annotate(\n",
    "            id_estacion=F('combustible__estacion'),\n",
    "            type_car=F('vehiculo__tipo_vehiculo'),\n",
    "            id_municipio = F('combustible__estacion__municipio_estacion__id'),\n",
    "            date=Cast('last_modified_at', DateField()),\n",
    "        ).values(\n",
    "            'id_municipio',\n",
    "            'id_estacion',\n",
    "            'vehiculo',\n",
    "            'date',\n",
    "            'cantidad',\n",
    "            'type_car',\n",
    "\n",
    "        ).query\n",
    "query_rebo = md.Rebotado.objects\\\n",
    "        .filter(created_at__date__range=(init, end))\\\n",
    "        .annotate(\n",
    "            id_estacion=F('combustible__estacion'),\n",
    "            type_car=F('vehiculo__tipo_vehiculo'),\n",
    "            id_municipio = F('combustible__estacion__municipio_estacion'),\n",
    "            date=Cast('last_modified_at', DateField()),\n",
    "        ).values(\n",
    "            'id_municipio',\n",
    "            'id_estacion',\n",
    "            'date',\n",
    "            'type_car',\n",
    "        ).query\n",
    "query_cont = md.ContadorMedida.objects\\\n",
    "        .filter(created_at__date__range=(init, end))\\\n",
    "        .annotate(\n",
    "            id_estacion=F('contador__estacion'),\n",
    "            id_municipio = F('contador__estacion__municipio_estacion'),\n",
    "            date=Cast('last_modified_at', DateField()),\n",
    "        ).values(\n",
    "            'id_municipio',\n",
    "            'id_estacion',\n",
    "            'date',\n",
    "            'cantidad',\n",
    "        ).query\n",
    "query_comb  = md.Combustible.objects\\\n",
    "        .filter(created_at__date__range=(init, end))\\\n",
    "        .annotate(\n",
    "            id_municipio = F('estacion__municipio_estacion')\n",
    "        ).values(\n",
    "            'id_municipio',\n",
    "            'estacion',\n",
    "            'litros_surtidos_g91',\n",
    "            'litros_surtidos_g95',\n",
    "            'litros_surtidos_gsl',\n",
    "        ).query"
   ]
  },
  {
   "cell_type": "code",
   "execution_count": 107,
   "metadata": {},
   "outputs": [
    {
     "name": "stdout",
     "output_type": "stream",
     "text": [
      "CPU times: user 1.56 s, sys: 56 ms, total: 1.62 s\n",
      "Wall time: 37.5 s\n"
     ]
    }
   ],
   "source": [
    "%%time\n",
    "df_cola = pd.read_sql(format_date(query_cola), connections['default'])\n",
    "df_rebo = pd.read_sql(format_date(query_rebo), connections['default'])\n",
    "df_cont = pd.read_sql(format_date(query_cont), connections['default'])\n",
    "df_comb = pd.read_sql(format_date(query_comb), connections['default'])"
   ]
  },
  {
   "cell_type": "code",
   "execution_count": 148,
   "metadata": {},
   "outputs": [],
   "source": [
    "atendidos_dias, tipos_atendidos, stations = None, None, None\n",
    "stations = md.Estacion.objects.all()[10:]\n",
    "#stations = md.Estacion.objects.all()"
   ]
  },
  {
   "cell_type": "code",
   "execution_count": 149,
   "metadata": {},
   "outputs": [
    {
     "name": "stdout",
     "output_type": "stream",
     "text": [
      "CPU times: user 16 ms, sys: 0 ns, total: 16 ms\n",
      "Wall time: 27.3 ms\n"
     ]
    },
    {
     "data": {
      "text/plain": [
       "Particular             11429\n",
       "Carga                     70\n",
       "Taxi                       5\n",
       "TP Gasolina                5\n",
       "Oficial Diario             4\n",
       "Oficial Interdiario        3\n",
       "Moto                       1\n",
       "Name: type_car, dtype: int64"
      ]
     },
     "execution_count": 149,
     "metadata": {},
     "output_type": "execute_result"
    }
   ],
   "source": [
    "%%time \n",
    "count_type = df_cola[\"type_car\"][df_cola[\"id_municipio\"]==municipio.id].value_counts()\n",
    "count_type"
   ]
  },
  {
   "cell_type": "code",
   "execution_count": 150,
   "metadata": {},
   "outputs": [
    {
     "data": {
      "image/png": "[encoded data removed]",
      "text/plain": [
       "<Figure size 432x288 with 1 Axes>"
      ]
     },
     "metadata": {
      "needs_background": "light"
     },
     "output_type": "display_data"
    }
   ],
   "source": [
    "fig = count_type.plot(kind='bar').figure"
   ]
  },
  {
   "cell_type": "code",
   "execution_count": 223,
   "metadata": {},
   "outputs": [
    {
     "data": {
      "text/html": [
       "<div>\n",
       "<style scoped>\n",
       "    .dataframe tbody tr th:only-of-type {\n",
       "        vertical-align: middle;\n",
       "    }\n",
       "\n",
       "    .dataframe tbody tr th {\n",
       "        vertical-align: top;\n",
       "    }\n",
       "\n",
       "    .dataframe thead th {\n",
       "        text-align: right;\n",
       "    }\n",
       "</style>\n",
       "<table border=\"1\" class=\"dataframe\">\n",
       "  <thead>\n",
       "    <tr style=\"text-align: right;\">\n",
       "      <th></th>\n",
       "      <th>nombre</th>\n",
       "    </tr>\n",
       "    <tr>\n",
       "      <th>id</th>\n",
       "      <th></th>\n",
       "    </tr>\n",
       "  </thead>\n",
       "  <tbody>\n",
       "    <tr>\n",
       "      <th>1</th>\n",
       "      <td>Centenario</td>\n",
       "    </tr>\n",
       "    <tr>\n",
       "      <th>24</th>\n",
       "      <td>Chama</td>\n",
       "    </tr>\n",
       "    <tr>\n",
       "      <th>21</th>\n",
       "      <td>Diba</td>\n",
       "    </tr>\n",
       "    <tr>\n",
       "      <th>27</th>\n",
       "      <td>El Anis</td>\n",
       "    </tr>\n",
       "    <tr>\n",
       "      <th>8</th>\n",
       "      <td>El Retorno</td>\n",
       "    </tr>\n",
       "  </tbody>\n",
       "</table>\n",
       "</div>"
      ],
      "text/plain": [
       "        nombre\n",
       "id            \n",
       "1   Centenario\n",
       "24       Chama\n",
       "21        Diba\n",
       "27     El Anis\n",
       "8   El Retorno"
      ]
     },
     "execution_count": 223,
     "metadata": {},
     "output_type": "execute_result"
    }
   ],
   "source": [
    "df_stations = pd.read_sql(format_date(stations.values('id','nombre').query), \n",
    "                          connections['default'], index_col='id')\n",
    "df_stations.head()"
   ]
  },
  {
   "cell_type": "code",
   "execution_count": 152,
   "metadata": {},
   "outputs": [
    {
     "name": "stdout",
     "output_type": "stream",
     "text": [
      "CPU times: user 10.8 s, sys: 12 ms, total: 10.8 s\n",
      "Wall time: 11.1 s\n"
     ]
    },
    {
     "data": {
      "text/html": [
       "<div>\n",
       "<style scoped>\n",
       "    .dataframe tbody tr th:only-of-type {\n",
       "        vertical-align: middle;\n",
       "    }\n",
       "\n",
       "    .dataframe tbody tr th {\n",
       "        vertical-align: top;\n",
       "    }\n",
       "\n",
       "    .dataframe thead th {\n",
       "        text-align: right;\n",
       "    }\n",
       "</style>\n",
       "<table border=\"1\" class=\"dataframe\">\n",
       "  <thead>\n",
       "    <tr style=\"text-align: right;\">\n",
       "      <th></th>\n",
       "      <th>day</th>\n",
       "      <th>count</th>\n",
       "    </tr>\n",
       "  </thead>\n",
       "  <tbody>\n",
       "    <tr>\n",
       "      <th>0</th>\n",
       "      <td>2019-08-02</td>\n",
       "      <td>5725</td>\n",
       "    </tr>\n",
       "    <tr>\n",
       "      <th>1</th>\n",
       "      <td>2019-08-03</td>\n",
       "      <td>3863</td>\n",
       "    </tr>\n",
       "    <tr>\n",
       "      <th>2</th>\n",
       "      <td>2019-08-04</td>\n",
       "      <td>2453</td>\n",
       "    </tr>\n",
       "    <tr>\n",
       "      <th>3</th>\n",
       "      <td>2019-08-05</td>\n",
       "      <td>5491</td>\n",
       "    </tr>\n",
       "    <tr>\n",
       "      <th>4</th>\n",
       "      <td>2019-08-06</td>\n",
       "      <td>2798</td>\n",
       "    </tr>\n",
       "  </tbody>\n",
       "</table>\n",
       "</div>"
      ],
      "text/plain": [
       "         day  count\n",
       "0 2019-08-02   5725\n",
       "1 2019-08-03   3863\n",
       "2 2019-08-04   2453\n",
       "3 2019-08-05   5491\n",
       "4 2019-08-06   2798"
      ]
     },
     "execution_count": 152,
     "metadata": {},
     "output_type": "execute_result"
    }
   ],
   "source": [
    "%%time\n",
    "df_dates = pd.DataFrame(pd.date_range(init, end), columns=['day'])\n",
    "df_dates['count'] = df_dates['day'].apply(\n",
    "    lambda x: df_cola['date'][(df_cola['date']==x) & (df_cola['id_estacion'].isin(df_stations['id']))].count()\n",
    ")\n",
    "df_dates.head()"
   ]
  },
  {
   "cell_type": "code",
   "execution_count": 153,
   "metadata": {},
   "outputs": [
    {
     "name": "stdout",
     "output_type": "stream",
     "text": [
      "CPU times: user 108 ms, sys: 0 ns, total: 108 ms\n",
      "Wall time: 110 ms\n"
     ]
    },
    {
     "data": {
      "text/html": [
       "<div>\n",
       "<style scoped>\n",
       "    .dataframe tbody tr th:only-of-type {\n",
       "        vertical-align: middle;\n",
       "    }\n",
       "\n",
       "    .dataframe tbody tr th {\n",
       "        vertical-align: top;\n",
       "    }\n",
       "\n",
       "    .dataframe thead th {\n",
       "        text-align: right;\n",
       "    }\n",
       "</style>\n",
       "<table border=\"1\" class=\"dataframe\">\n",
       "  <thead>\n",
       "    <tr style=\"text-align: right;\">\n",
       "      <th></th>\n",
       "      <th>day</th>\n",
       "      <th>count</th>\n",
       "    </tr>\n",
       "    <tr>\n",
       "      <th>day</th>\n",
       "      <th></th>\n",
       "      <th></th>\n",
       "    </tr>\n",
       "  </thead>\n",
       "  <tbody>\n",
       "    <tr>\n",
       "      <th>2019-08-02</th>\n",
       "      <td>2019-08-02</td>\n",
       "      <td>5725</td>\n",
       "    </tr>\n",
       "    <tr>\n",
       "      <th>2019-08-03</th>\n",
       "      <td>2019-08-03</td>\n",
       "      <td>3863</td>\n",
       "    </tr>\n",
       "    <tr>\n",
       "      <th>2019-08-04</th>\n",
       "      <td>2019-08-04</td>\n",
       "      <td>2453</td>\n",
       "    </tr>\n",
       "    <tr>\n",
       "      <th>2019-08-05</th>\n",
       "      <td>2019-08-05</td>\n",
       "      <td>5491</td>\n",
       "    </tr>\n",
       "    <tr>\n",
       "      <th>2019-08-06</th>\n",
       "      <td>2019-08-06</td>\n",
       "      <td>2798</td>\n",
       "    </tr>\n",
       "  </tbody>\n",
       "</table>\n",
       "</div>"
      ],
      "text/plain": [
       "                  day  count\n",
       "day                         \n",
       "2019-08-02 2019-08-02   5725\n",
       "2019-08-03 2019-08-03   3863\n",
       "2019-08-04 2019-08-04   2453\n",
       "2019-08-05 2019-08-05   5491\n",
       "2019-08-06 2019-08-06   2798"
      ]
     },
     "execution_count": 153,
     "metadata": {},
     "output_type": "execute_result"
    }
   ],
   "source": [
    "%%time\n",
    "df_dates = pd.DataFrame(pd.date_range(init, end), columns=['day'])\n",
    "df_dates.index = df_dates['day']\n",
    "df_dates['count'] = df_cola['date'][df_cola['id_estacion'].isin(df_stations['id'])].value_counts()[df_dates['day']]\n",
    "df_dates.head()"
   ]
  },
  {
   "cell_type": "code",
   "execution_count": 20,
   "metadata": {},
   "outputs": [
    {
     "data": {
      "text/plain": [
       "<matplotlib.axes._subplots.AxesSubplot at 0x7f5567b16ba8>"
      ]
     },
     "execution_count": 20,
     "metadata": {},
     "output_type": "execute_result"
    },
    {
     "data": {
      "image/png": "[encoded data removed]",
      "text/plain": [
       "<Figure size 432x288 with 1 Axes>"
      ]
     },
     "metadata": {
      "needs_background": "light"
     },
     "output_type": "display_data"
    }
   ],
   "source": [
    "df_dates['count'].plot()"
   ]
  },
  {
   "cell_type": "code",
   "execution_count": 22,
   "metadata": {},
   "outputs": [],
   "source": [
    "from statsmodels.nonparametric.smoothers_lowess import lowess\n",
    "\n",
    "result = lowess(df_dates['count'], df_dates['day'])\n",
    "df_smooth = pd.DataFrame(result, columns=['x','y'])\n",
    "df_smooth['x'] = pd.to_datetime(df_smooth['x'])"
   ]
  },
  {
   "cell_type": "code",
   "execution_count": 27,
   "metadata": {},
   "outputs": [
    {
     "data": {
      "text/plain": [
       "<matplotlib.legend.Legend at 0x7f5565d40d68>"
      ]
     },
     "execution_count": 27,
     "metadata": {},
     "output_type": "execute_result"
    },
    {
     "data": {
      "image/png": "[encoded data removed]",
      "text/plain": [
       "<Figure size 576x432 with 1 Axes>"
      ]
     },
     "metadata": {
      "needs_background": "light"
     },
     "output_type": "display_data"
    }
   ],
   "source": [
    "fig, ax = plt.subplots(figsize=(8, 6))\n",
    "ax.plot(df_dates['day'], df_dates['count'], label=\"raw\")\n",
    "ax.plot(pd.to_datetime(df_smooth.x), df_smooth.y, label=\"raw\")\n",
    "plt.legend()"
   ]
  },
  {
   "cell_type": "code",
   "execution_count": null,
   "metadata": {},
   "outputs": [],
   "source": [
    "import plotly.tools as tls\n",
    "plotly_fig = tls.mpl_to_plotly(fig)\n",
    "plotly_fig"
   ]
  },
  {
   "cell_type": "code",
   "execution_count": 154,
   "metadata": {},
   "outputs": [
    {
     "name": "stdout",
     "output_type": "stream",
     "text": [
      "CPU times: user 116 ms, sys: 0 ns, total: 116 ms\n",
      "Wall time: 119 ms\n"
     ]
    }
   ],
   "source": [
    "%%time\n",
    "df_stations['atendidos'] = df_stations['id'].apply(\n",
    "    lambda x: df_cola['id_estacion'][df_cola['id_estacion']==x].count()\n",
    ")"
   ]
  },
  {
   "cell_type": "code",
   "execution_count": 155,
   "metadata": {},
   "outputs": [
    {
     "name": "stdout",
     "output_type": "stream",
     "text": [
      "CPU times: user 20 ms, sys: 0 ns, total: 20 ms\n",
      "Wall time: 290 ms\n"
     ]
    },
    {
     "name": "stderr",
     "output_type": "stream",
     "text": [
      "/home/isaac/myCode/python/venv_dgas3/lib/python3.7/site-packages/pandas/core/series.py:1146: FutureWarning:\n",
      "\n",
      "\n",
      "Passing list-likes to .loc or [] with any missing label will raise\n",
      "KeyError in the future, you can use .reindex() as an alternative.\n",
      "\n",
      "See the documentation here:\n",
      "https://pandas.pydata.org/pandas-docs/stable/user_guide/indexing.html#deprecate-loc-reindex-listlike\n",
      "\n"
     ]
    }
   ],
   "source": [
    "%%time\n",
    "df_stations['atendidos'] = df_cola['id_estacion'].value_counts()[df_stations['id']].fillna(0).astype('int')"
   ]
  },
  {
   "cell_type": "code",
   "execution_count": 156,
   "metadata": {},
   "outputs": [
    {
     "name": "stdout",
     "output_type": "stream",
     "text": [
      "CPU times: user 88 ms, sys: 0 ns, total: 88 ms\n",
      "Wall time: 86.5 ms\n"
     ]
    }
   ],
   "source": [
    "%%time\n",
    "df_stations['rebotados'] = df_stations['id'].apply(\n",
    "    lambda x: df_rebo['id_estacion'][df_rebo['id_estacion']==x].count()\n",
    ")"
   ]
  },
  {
   "cell_type": "code",
   "execution_count": 157,
   "metadata": {},
   "outputs": [
    {
     "name": "stdout",
     "output_type": "stream",
     "text": [
      "CPU times: user 12 ms, sys: 0 ns, total: 12 ms\n",
      "Wall time: 15.5 ms\n"
     ]
    }
   ],
   "source": [
    "%%time\n",
    "df_stations['atendidos'] = df_rebo['id_estacion'].value_counts()[df_stations['id']].fillna(0).astype('int')"
   ]
  },
  {
   "cell_type": "code",
   "execution_count": 159,
   "metadata": {},
   "outputs": [
    {
     "name": "stdout",
     "output_type": "stream",
     "text": [
      "CPU times: user 188 ms, sys: 0 ns, total: 188 ms\n",
      "Wall time: 255 ms\n"
     ]
    }
   ],
   "source": [
    "%%time\n",
    "df_stations['surtidos'] = df_stations['id'].apply(\n",
    "    lambda x: df_comb[df_comb['estacion_id']==x][['litros_surtidos_g91','litros_surtidos_g95','litros_surtidos_gsl']].sum().sum()\n",
    ")"
   ]
  },
  {
   "cell_type": "code",
   "execution_count": 160,
   "metadata": {},
   "outputs": [
    {
     "name": "stdout",
     "output_type": "stream",
     "text": [
      "CPU times: user 16 ms, sys: 0 ns, total: 16 ms\n",
      "Wall time: 15.2 ms\n"
     ]
    }
   ],
   "source": [
    "%%time\n",
    "df_stations['surtidos'] = df_comb.groupby(['estacion_id'])[\n",
    "        ['litros_surtidos_g91','litros_surtidos_g95','litros_surtidos_gsl']\n",
    "    ].sum().sum(axis=1).fillna(0)"
   ]
  },
  {
   "cell_type": "code",
   "execution_count": 161,
   "metadata": {},
   "outputs": [
    {
     "name": "stdout",
     "output_type": "stream",
     "text": [
      "CPU times: user 0 ns, sys: 0 ns, total: 0 ns\n",
      "Wall time: 18.1 µs\n"
     ]
    }
   ],
   "source": [
    "%time\n",
    "df_stations['litros'] = df_cont.groupby(['id_estacion'])['cantidad'].max() - df_cont.groupby(['id_estacion'])['cantidad'].min()\n",
    "df_stations['litros'] = df_stations['litros'].fillna(0.0)"
   ]
  },
  {
   "cell_type": "code",
   "execution_count": 162,
   "metadata": {},
   "outputs": [
    {
     "data": {
      "text/html": [
       "<div>\n",
       "<style scoped>\n",
       "    .dataframe tbody tr th:only-of-type {\n",
       "        vertical-align: middle;\n",
       "    }\n",
       "\n",
       "    .dataframe tbody tr th {\n",
       "        vertical-align: top;\n",
       "    }\n",
       "\n",
       "    .dataframe thead th {\n",
       "        text-align: right;\n",
       "    }\n",
       "</style>\n",
       "<table border=\"1\" class=\"dataframe\">\n",
       "  <thead>\n",
       "    <tr style=\"text-align: right;\">\n",
       "      <th></th>\n",
       "      <th>id</th>\n",
       "      <th>nombre</th>\n",
       "      <th>atendidos</th>\n",
       "      <th>rebotados</th>\n",
       "      <th>surtidos</th>\n",
       "      <th>litros</th>\n",
       "    </tr>\n",
       "    <tr>\n",
       "      <th>id</th>\n",
       "      <th></th>\n",
       "      <th></th>\n",
       "      <th></th>\n",
       "      <th></th>\n",
       "      <th></th>\n",
       "      <th></th>\n",
       "    </tr>\n",
       "  </thead>\n",
       "  <tbody>\n",
       "    <tr>\n",
       "      <th>1</th>\n",
       "      <td>1</td>\n",
       "      <td>Centenario</td>\n",
       "      <td>565</td>\n",
       "      <td>565</td>\n",
       "      <td>1050.0</td>\n",
       "      <td>0.0</td>\n",
       "    </tr>\n",
       "    <tr>\n",
       "      <th>24</th>\n",
       "      <td>24</td>\n",
       "      <td>Chama</td>\n",
       "      <td>352</td>\n",
       "      <td>352</td>\n",
       "      <td>1490.0</td>\n",
       "      <td>0.0</td>\n",
       "    </tr>\n",
       "    <tr>\n",
       "      <th>21</th>\n",
       "      <td>21</td>\n",
       "      <td>Diba</td>\n",
       "      <td>493</td>\n",
       "      <td>493</td>\n",
       "      <td>1450.0</td>\n",
       "      <td>0.0</td>\n",
       "    </tr>\n",
       "    <tr>\n",
       "      <th>27</th>\n",
       "      <td>27</td>\n",
       "      <td>El Anis</td>\n",
       "      <td>356</td>\n",
       "      <td>356</td>\n",
       "      <td>700.0</td>\n",
       "      <td>0.0</td>\n",
       "    </tr>\n",
       "    <tr>\n",
       "      <th>8</th>\n",
       "      <td>8</td>\n",
       "      <td>El Retorno</td>\n",
       "      <td>356</td>\n",
       "      <td>356</td>\n",
       "      <td>1450.0</td>\n",
       "      <td>0.0</td>\n",
       "    </tr>\n",
       "  </tbody>\n",
       "</table>\n",
       "</div>"
      ],
      "text/plain": [
       "    id      nombre  atendidos  rebotados  surtidos  litros\n",
       "id                                                        \n",
       "1    1  Centenario        565        565    1050.0     0.0\n",
       "24  24       Chama        352        352    1490.0     0.0\n",
       "21  21        Diba        493        493    1450.0     0.0\n",
       "27  27     El Anis        356        356     700.0     0.0\n",
       "8    8  El Retorno        356        356    1450.0     0.0"
      ]
     },
     "execution_count": 162,
     "metadata": {},
     "output_type": "execute_result"
    }
   ],
   "source": [
    "df_stations.head()"
   ]
  },
  {
   "cell_type": "code",
   "execution_count": 163,
   "metadata": {},
   "outputs": [],
   "source": [
    "count_placa = df_cola['vehiculo_id'].value_counts()"
   ]
  },
  {
   "cell_type": "code",
   "execution_count": 190,
   "metadata": {},
   "outputs": [
    {
     "name": "stdout",
     "output_type": "stream",
     "text": [
      "CPU times: user 4 s, sys: 32 ms, total: 4.03 s\n",
      "Wall time: 4.03 s\n"
     ]
    }
   ],
   "source": [
    "%%time\n",
    "df_time = pd.DataFrame(count_placa.index[count_placa>9], columns=['placa'])\n",
    "df_time['tiempo'] = df_time['placa'].apply(\n",
    "    lambda x: df_cola['date'][df_cola['vehiculo_id']==x].diff(periods=-1).mean().days\n",
    ")"
   ]
  },
  {
   "cell_type": "code",
   "execution_count": 212,
   "metadata": {},
   "outputs": [
    {
     "name": "stdout",
     "output_type": "stream",
     "text": [
      "CPU times: user 56.6 s, sys: 1.21 s, total: 57.8 s\n",
      "Wall time: 2min 1s\n"
     ]
    }
   ],
   "source": [
    "%%time\n",
    "deltadays = df_cola[df_cola['vehiculo_id'].isin(count_placa.index[count_placa>2])]\\\n",
    "    .sort_values('date').groupby('vehiculo_id')['date'].diff().dt.days"
   ]
  },
  {
   "cell_type": "code",
   "execution_count": 213,
   "metadata": {},
   "outputs": [
    {
     "data": {
      "text/plain": [
       "<matplotlib.axes._subplots.AxesSubplot at 0x7f5562d494a8>"
      ]
     },
     "execution_count": 213,
     "metadata": {},
     "output_type": "execute_result"
    },
    {
     "data": {
      "image/png": "[encoded data removed]",
      "text/plain": [
       "<Figure size 432x288 with 1 Axes>"
      ]
     },
     "metadata": {
      "needs_background": "light"
     },
     "output_type": "display_data"
    }
   ],
   "source": [
    "deltadays.index = deltadays.index.astype('int')\n",
    "deltadays.value_counts().sort_index().plot(kind='bar')"
   ]
  },
  {
   "cell_type": "code",
   "execution_count": 215,
   "metadata": {},
   "outputs": [
    {
     "data": {
      "text/plain": [
       "<matplotlib.axes._subplots.AxesSubplot at 0x7f55600406d8>"
      ]
     },
     "execution_count": 215,
     "metadata": {},
     "output_type": "execute_result"
    },
    {
     "data": {
      "image/png": "[encoded data removed]",
      "text/plain": [
       "<Figure size 432x288 with 1 Axes>"
      ]
     },
     "metadata": {
      "needs_background": "light"
     },
     "output_type": "display_data"
    }
   ],
   "source": [
    "deltadays.hist()"
   ]
  },
  {
   "cell_type": "code",
   "execution_count": null,
   "metadata": {},
   "outputs": [],
   "source": [
    "from dgas.gas_app import models as md\n",
    "import pandas as pd\n",
    "from datetime import datetime\n",
    "\n",
    "init_date = datetime(2019,7,1).date()\n",
    "end_date = datetime(2019,9,30).date()\n",
    "\n",
    "placas = md.Cola.objects.filter(created_at__date__range=(init_date, end_date))\n",
    "\n",
    "df = pd.DataFrame(placas.values('vehiculo_id','created_at'))\n",
    "df['created_at'] = df['created_at'].dt.date\n",
    "\n",
    "# Cambiar el nombre de la direccion\n",
    "df.to_csv(path_or_buf='datos.csv',index=False)"
   ]
  }
 ],
 "metadata": {
  "kernelspec": {
   "display_name": "Django Shell-Plus",
   "language": "python",
   "name": "django_extensions"
  },
  "language_info": {
   "codemirror_mode": {
    "name": "ipython",
    "version": 3
   },
   "file_extension": ".py",
   "mimetype": "text/x-python",
   "name": "python",
   "nbconvert_exporter": "python",
   "pygments_lexer": "ipython3",
   "version": "3.7.3"
  }
 },
 "nbformat": 4,
 "nbformat_minor": 2
}
